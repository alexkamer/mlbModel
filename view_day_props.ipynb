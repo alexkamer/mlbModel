{
 "cells": [
  {
   "cell_type": "code",
   "execution_count": 1,
   "metadata": {},
   "outputs": [],
   "source": [
    "from datetime import datetime\n",
    "import requests\n",
    "import pandas as pd\n",
    "import csv\n",
    "from fuzzywuzzy import process,fuzz\n",
    "\n",
    "from io import StringIO\n",
    "pd.set_option('display.max_columns', 500)\n"
   ]
  },
  {
   "cell_type": "code",
   "execution_count": 2,
   "metadata": {},
   "outputs": [],
   "source": [
    "mlb_teams = {\n",
    "    'ARI': 'Arizona Diamondbacks',\n",
    "    'ATL': 'Atlanta Braves', \n",
    "    'BAL': 'Baltimore Orioles',\n",
    "    'BOS': 'Boston Red Sox',\n",
    "    'CHC': 'Chicago Cubs',\n",
    "    'CWS': 'Chicago White Sox', \n",
    "    'CIN': 'Cincinnati Reds',\n",
    "    'CLE': 'Cleveland Guardians',\n",
    "    'COL': 'Colorado Rockies',\n",
    "    'DET': 'Detroit Tigers',\n",
    "    'HOU': 'Houston Astros',\n",
    "    'KC': 'Kansas City Royals',\n",
    "    'LAA': 'Los Angeles Angels',\n",
    "    'LAD': 'Los Angeles Dodgers',\n",
    "    'MIA': 'Miami Marlins',\n",
    "    'MIL': 'Milwaukee Brewers',\n",
    "    'MIN': 'Minnesota Twins', \n",
    "    'NYM': 'New York Mets',\n",
    "    'NYY': 'New York Yankees',\n",
    "    'OAK': 'Oakland Athletics',\n",
    "    'PHI': 'Philadelphia Phillies',\n",
    "    'PIT': 'Pittsburgh Pirates',\n",
    "    'SD': 'San Diego Padres',\n",
    "    'SF': 'San Francisco Giants',\n",
    "    'SEA': 'Seattle Mariners',\n",
    "    'STL': 'St. Louis Cardinals',\n",
    "    'TB': 'Tampa Bay Rays',\n",
    "    'TEX': 'Texas Rangers',\n",
    "    'TOR': 'Toronto Blue Jays',\n",
    "    'WSH': 'Washington Nationals'\n",
    "}"
   ]
  },
  {
   "cell_type": "code",
   "execution_count": 3,
   "metadata": {},
   "outputs": [
    {
     "name": "stderr",
     "output_type": "stream",
     "text": [
      "/var/folders/7f/nl87050s61973ky11lnw6gyr0000gn/T/ipykernel_8867/1868897738.py:1: DtypeWarning: Columns (40,41) have mixed types. Specify dtype option on import or set low_memory=False.\n",
      "  batter_boxscores = pd.read_csv('datasets/complex_batters.csv')\n",
      "/var/folders/7f/nl87050s61973ky11lnw6gyr0000gn/T/ipykernel_8867/1868897738.py:2: DtypeWarning: Columns (12,31,32) have mixed types. Specify dtype option on import or set low_memory=False.\n",
      "  pitcher_boxscores = pd.read_csv('datasets/complex_pitchers.csv')\n"
     ]
    }
   ],
   "source": [
    "batter_boxscores = pd.read_csv('datasets/complex_batters.csv')\n",
    "pitcher_boxscores = pd.read_csv('datasets/complex_pitchers.csv')\n",
    "batter_boxscores = batter_boxscores.rename(columns={\n",
    "    'h' : 'Hits',\n",
    "    'Batter Fantasy Score' : 'Hitter Fantasy Score',\n",
    "    'k' : 'Hitter Strikeouts',\n",
    "    'hr' : 'Home Runs',\n",
    "    'rbi' : 'RBIs',\n",
    "    'r' : 'Runs',\n",
    "    'singles' : 'Singles',\n",
    "    'TB' : 'Total Bases',\n",
    "    'doubles' : 'Doubles',\n",
    "    'H+R+RBIs' : 'Hits+Runs+RBIs',\n",
    "    'bb': 'Walks',\n",
    "    'sb' : 'Stolen Bases'\n",
    "})"
   ]
  },
  {
   "cell_type": "code",
   "execution_count": 4,
   "metadata": {},
   "outputs": [],
   "source": [
    "url = 'http://192.168.1.200/data/live_prop_data.csv'\n",
    "\n",
    "\n",
    "response = requests.get(url)\n",
    "# Check if the request was successful\n",
    "if response.status_code == 200:\n",
    "    data = response.content.decode('utf-8')\n",
    "else:\n",
    "    print(f\"Failed to retrieve data: status code {response.status_code}\")\n",
    "    data = None\n",
    "if data:\n",
    "    # Convert string data to StringIO object\n",
    "    data_io = StringIO(data)\n",
    "    # Create DataFrame\n",
    "    live_df = pd.read_csv(data_io)"
   ]
  },
  {
   "cell_type": "code",
   "execution_count": 5,
   "metadata": {},
   "outputs": [],
   "source": [
    "url = 'http://192.168.1.200/data/data.csv'\n",
    "\n",
    "\n",
    "response = requests.get(url)\n",
    "# Check if the request was successful\n",
    "if response.status_code == 200:\n",
    "    data = response.content.decode('utf-8')\n",
    "else:\n",
    "    print(f\"Failed to retrieve data: status code {response.status_code}\")\n",
    "    data = None\n",
    "if data:\n",
    "    # Convert string data to StringIO object\n",
    "    data_io = StringIO(data)\n",
    "    # Create DataFrame\n",
    "    props_df = pd.read_csv(data_io)"
   ]
  },
  {
   "cell_type": "code",
   "execution_count": 6,
   "metadata": {},
   "outputs": [],
   "source": [
    "current_date = datetime.now().strftime('%Y-%m-%d')\n",
    "\n",
    "current_day_props = props_df[props_df['game_date'] == current_date]\n",
    "\n",
    "pitcher_props = current_day_props[current_day_props['position'].isin(['P','SP'])]\n",
    "batter_props = current_day_props[~current_day_props['position'].isin(['P', 'SP'])]"
   ]
  },
  {
   "cell_type": "code",
   "execution_count": 7,
   "metadata": {},
   "outputs": [],
   "source": [
    "batter_props = batter_props.sort_values(by=['Name','prop_type','odds_type'])\n",
    "batter_props = batter_props.drop_duplicates()"
   ]
  },
  {
   "cell_type": "code",
   "execution_count": 8,
   "metadata": {},
   "outputs": [],
   "source": [
    "\n",
    "updated_names = []\n",
    "\n",
    "for name in batter_props['Name'].unique():\n",
    "    if name in batter_boxscores['Name'].to_list():\n",
    "        updated_names.append(name)"
   ]
  },
  {
   "cell_type": "code",
   "execution_count": 16,
   "metadata": {},
   "outputs": [],
   "source": [
    "organized_prop_df = []\n",
    "\n",
    "for player_name in updated_names:\n",
    "    player_props = batter_props[batter_props['Name'] == player_name]\n",
    "    player_boxscore = batter_boxscores[batter_boxscores['Name'] == player_name][::-1]\n",
    "\n",
    "    for index, row in player_props.iterrows():\n",
    "\n",
    "        prop_dict = {\n",
    "            'Team' : player_boxscore['Team'].iloc[0],\n",
    "            'game_date' : row['game_date'],\n",
    "            'Name' : row['Name'],\n",
    "            'prop_line' : row['prop_line'],\n",
    "            'odds_type' : row['odds_type'],\n",
    "            'prop_type' : row['prop_type'],\n",
    "            'PP_ID' : row['PP_ID'],\n",
    "            'statsAPI_ID' : player_boxscore['personId'].iloc[0],\n",
    "            'Hit Rate' : 0,\n",
    "            'Push Rate' : 0,\n",
    "            'Hit' : 0,\n",
    "            'Push' : 0,\n",
    "            'Game Size' : 0\n",
    "        }\n",
    "\n",
    "        stat_list = player_boxscore[row['prop_type']].to_list()\n",
    "\n",
    "        actual_num_of_games = 20\n",
    "\n",
    "        number_of_games = actual_num_of_games\n",
    "\n",
    "        if len(stat_list) < (number_of_games + 1):\n",
    "            number_of_games = len(stat_list)\n",
    "        else:\n",
    "            stat_list = stat_list[:number_of_games]\n",
    "        \n",
    "        prop_dict['Game Size'] = number_of_games\n",
    "        \n",
    "        prop_dict['Hit'] = len([num for num in stat_list if num > row['prop_line']])\n",
    "        prop_dict['Push'] = len([num for num in stat_list if num == row['prop_line']])\n",
    "        prop_dict['Hit Rate'] = f\"{round(prop_dict['Hit'] / prop_dict['Game Size'] * 100,2)}%\"\n",
    "        prop_dict['Push Rate'] = f\"{round(prop_dict['Push'] / prop_dict['Game Size'] * 100,2)}%\"\n",
    "\n",
    "        for i in range(1, actual_num_of_games+1):\n",
    "            try:\n",
    "                prop_dict[str(i)] = stat_list[i-1]\n",
    "            except:\n",
    "                prop_dict[str(i)] = None\n",
    "\n",
    "\n",
    "\n",
    "\n",
    "        organized_prop_df.append(prop_dict)\n",
    "    "
   ]
  },
  {
   "cell_type": "code",
   "execution_count": 17,
   "metadata": {},
   "outputs": [],
   "source": [
    "organized_prop_df = pd.DataFrame(organized_prop_df)\n",
    "#player_boxscore\n"
   ]
  },
  {
   "cell_type": "code",
   "execution_count": 18,
   "metadata": {},
   "outputs": [],
   "source": [
    "organized_prop_df.to_excel('Prop_Table.xlsx', index=False)"
   ]
  },
  {
   "cell_type": "code",
   "execution_count": null,
   "metadata": {},
   "outputs": [],
   "source": []
  }
 ],
 "metadata": {
  "kernelspec": {
   "display_name": ".venv",
   "language": "python",
   "name": "python3"
  },
  "language_info": {
   "codemirror_mode": {
    "name": "ipython",
    "version": 3
   },
   "file_extension": ".py",
   "mimetype": "text/x-python",
   "name": "python",
   "nbconvert_exporter": "python",
   "pygments_lexer": "ipython3",
   "version": "3.12.4"
  }
 },
 "nbformat": 4,
 "nbformat_minor": 2
}
