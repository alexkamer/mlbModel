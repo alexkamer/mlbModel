{
 "cells": [
  {
   "cell_type": "code",
   "execution_count": 1,
   "metadata": {},
   "outputs": [],
   "source": []
  },
  {
   "cell_type": "code",
   "execution_count": 5,
   "metadata": {},
   "outputs": [
    {
     "name": "stdout",
     "output_type": "stream",
     "text": [
      "10.333333333333334 The standard deviation of the data is: 2.839120649181021\n"
     ]
    }
   ],
   "source": [
    "import math\n",
    "\n",
    "def calculate_stddev(values):\n",
    "    # Calculate the mean of the values\n",
    "    mean = sum(values) / len(values)\n",
    "    \n",
    "    # Calculate the variance using the formula for sample variance\n",
    "    variance = sum((x - mean) ** 2 for x in values) / (len(values) - 1)\n",
    "    \n",
    "    # Calculate the standard deviation by taking the square root of the variance\n",
    "    stddev = math.sqrt(variance)\n",
    "    \n",
    "    return mean, stddev\n",
    "\n",
    "# Example usage\n",
    "data = [7,7,11,12,11,8,8,10,12,8,15,15]\n",
    "mean, std_dev = calculate_stddev(data)\n",
    "print(mean, \"The standard deviation of the data is:\", std_dev)\n"
   ]
  },
  {
   "cell_type": "code",
   "execution_count": null,
   "metadata": {},
   "outputs": [],
   "source": []
  }
 ],
 "metadata": {
  "kernelspec": {
   "display_name": ".venv",
   "language": "python",
   "name": "python3"
  },
  "language_info": {
   "codemirror_mode": {
    "name": "ipython",
    "version": 3
   },
   "file_extension": ".py",
   "mimetype": "text/x-python",
   "name": "python",
   "nbconvert_exporter": "python",
   "pygments_lexer": "ipython3",
   "version": "3.10.0"
  }
 },
 "nbformat": 4,
 "nbformat_minor": 2
}
